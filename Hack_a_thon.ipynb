{
  "nbformat": 4,
  "nbformat_minor": 0,
  "metadata": {
    "colab": {
      "provenance": [],
      "mount_file_id": "180aaWm7zl3IwJbWBvKN6aQoJEc6hQhAn",
      "authorship_tag": "ABX9TyNE5zUsXdRXzNWbWuqx4MJf",
      "include_colab_link": true
    },
    "kernelspec": {
      "name": "python3",
      "display_name": "Python 3"
    },
    "language_info": {
      "name": "python"
    }
  },
  "cells": [
    {
      "cell_type": "markdown",
      "metadata": {
        "id": "view-in-github",
        "colab_type": "text"
      },
      "source": [
        "<a href=\"https://colab.research.google.com/github/JenClifford/DataCleaningPython/blob/main/Hack_a_thon.ipynb\" target=\"_parent\"><img src=\"https://colab.research.google.com/assets/colab-badge.svg\" alt=\"Open In Colab\"/></a>"
      ]
    },
    {
      "cell_type": "markdown",
      "source": [
        "Thinkful/Chegg Skills - Hack-A-Thon\n",
        "\n",
        "Dataset from Kaggle, https://www.kaggle.com/datasets/borismarjanovic/price-volume-data-for-all-us-stocks-etfs?resource=download\n"
      ],
      "metadata": {
        "id": "MLaDpgNov-pK"
      }
    },
    {
      "cell_type": "code",
      "execution_count": null,
      "metadata": {
        "colab": {
          "base_uri": "https://localhost:8080/"
        },
        "id": "GjqPIbayH5NT",
        "outputId": "e5786dcc-a804-4ffa-b84d-b39be142eae9"
      },
      "outputs": [
        {
          "output_type": "stream",
          "name": "stdout",
          "text": [
            "Requirement already satisfied: scipy in /usr/local/lib/python3.10/dist-packages (1.11.4)\n",
            "Requirement already satisfied: numpy<1.28.0,>=1.21.6 in /usr/local/lib/python3.10/dist-packages (from scipy) (1.25.2)\n"
          ]
        }
      ],
      "source": [
        "# Import libraries\n",
        "\n",
        "!pip install scipy\n",
        "from sqlalchemy import create_engine, text\n",
        "import pandas as pd\n",
        "import numpy as np\n",
        "import scipy.stats as stats\n",
        "import seaborn as sns\n",
        "sns.set()\n",
        "\n",
        "import warnings\n",
        "warnings.filterwarnings(\"ignore\")"
      ]
    },
    {
      "cell_type": "code",
      "source": [
        "#  Mount google drive\n",
        "\n",
        "#from google.colab import drive\n",
        "#drive.mount('/content/drive')"
      ],
      "metadata": {
        "id": "yKYmM5DAv_FM"
      },
      "execution_count": null,
      "outputs": []
    },
    {
      "cell_type": "code",
      "source": [
        "# Locate path from dataset folder (left menu) and paste below\n",
        "\n",
        "#path = \"/content/drive/MyDrive/Hack-a-thon/Dataset/ETFs/ETFs\"\n",
        "#df = pd.read_csv(path)"
      ],
      "metadata": {
        "id": "vC7VAUgfOGJX"
      },
      "execution_count": null,
      "outputs": []
    },
    {
      "cell_type": "markdown",
      "source": [
        "Combine txt files\n",
        "\n",
        "*Comma* seperated, no white space,\n",
        "\n",
        "Columns: Date, Open, Low, Close, Volumne, OpenInt"
      ],
      "metadata": {
        "id": "vNjmz0uuwmmX"
      }
    },
    {
      "cell_type": "code",
      "source": [
        "import pandas as pd\n",
        "import os\n",
        "\n",
        "def combine_txt_files(parent_folder):\n",
        "    combined_data = None  # Initialize as None\n",
        "    for root, _, files in os.walk(parent_folder):\n",
        "        for file_name in files:\n",
        "            if file_name.endswith('.txt'):\n",
        "                file_path = os.path.join(root, file_name)\n",
        "                data = pd.read_csv(file_path, sep=',')  # Assuming comma-separated text files\n",
        "                if combined_data is None:\n",
        "                    combined_data = data.copy()  # Initialize combined_data with the first file's data\n",
        "                else:\n",
        "                    combined_data = pd.concat([combined_data, data], ignore_index=True)  # Concatenate data to combined_data\n",
        "    return combined_data"
      ],
      "metadata": {
        "id": "E_k6516-wiA3"
      },
      "execution_count": null,
      "outputs": []
    },
    {
      "cell_type": "markdown",
      "source": [
        "\n",
        "\n",
        "Combine ETFs txt files\n",
        "\n",
        "Comma seperated, no white space\n",
        "\n",
        "Columns: Date, Open, Low, Close, Volumne, OpenInt\n"
      ],
      "metadata": {
        "id": "TmaaCWlByx6O"
      }
    },
    {
      "cell_type": "code",
      "source": [
        "combined_data = combine_txt_files('/content/drive/MyDrive/Hack-a-thon/Dataset/ETFs')\n"
      ],
      "metadata": {
        "id": "Ibr2LJkZwihJ"
      },
      "execution_count": null,
      "outputs": []
    },
    {
      "cell_type": "code",
      "source": [],
      "metadata": {
        "id": "4zkVasO2wiqi"
      },
      "execution_count": null,
      "outputs": []
    },
    {
      "cell_type": "code",
      "source": [],
      "metadata": {
        "id": "q7cz_fW5wiz5"
      },
      "execution_count": null,
      "outputs": []
    }
  ]
}